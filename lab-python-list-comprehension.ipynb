{
 "cells": [
  {
   "cell_type": "markdown",
   "id": "25d7736c-ba17-4aff-b6bb-66eba20fbf4e",
   "metadata": {},
   "source": [
    "# Lab | List, Dict and Set Comprehension"
   ]
  },
  {
   "cell_type": "markdown",
   "id": "7dd3cbde-675a-4b81-92c3-f728846dbe06",
   "metadata": {},
   "source": [
    "## Exercise: Managing Customer Orders Optimized with Comprehension"
   ]
  },
  {
   "cell_type": "markdown",
   "id": "5d500160-2fb7-4777-b5e4-09d45ebaf328",
   "metadata": {},
   "source": [
    "In the previous exercise, you developed a program to manage customer orders and inventory. Now, let's take it a step further and incorporate comprehension into your code.\n",
    "\n",
    "Follow the steps below to complete the exercise:\n",
    "\n",
    "1. Review your code from the previous exercise and identify areas where you can apply comprehension to simplify and streamline your code. \n",
    "\n",
    "    - *Hint: Apply it to initialize inventory, updating the inventory and printing the updated inventory.*\n",
    "    \n",
    "    - For example, in initializing the inventory, we could have:\n",
    "    \n",
    "        ```python\n",
    "        def initialize_inventory(products):\n",
    "            inventory = {product: int(input(f\"Enter the quantity of {product}s available: \")) for product in products}\n",
    "            return inventory\n",
    "\n",
    "        ```\n",
    "<br>\n",
    "    \n",
    "    \n",
    "2. Modify the function get_customer_orders so it prompts the user to enter the number of customer orders and gathers the product names using a loop and user input. Use comprehension.\n",
    "\n",
    "3. Add a new function to calculate the total price of the customer order. For each product in customer_orders, prompt the user to enter the price of that product. Use comprehension to calculate the total price. Note: assume that the user can only have 1 unit of each product.\n",
    "\n",
    "4. Modify the update_inventory function to remove the product from the inventory if its quantity becomes zero after fulfilling the customer orders. Use comprehension to filter out the products with a quantity of zero from the inventory.\n",
    "\n",
    "5. Print the total price of the customer order.\n",
    "\n",
    "Your code should produce output similar to the following:\n",
    "\n",
    "```python\n",
    "Enter the quantity of t-shirts available:  5\n",
    "Enter the quantity of mugs available:  4\n",
    "Enter the quantity of hats available:  3\n",
    "Enter the quantity of books available:  2\n",
    "Enter the quantity of keychains available:  1\n",
    "Enter the number of customer orders:  2\n",
    "Enter the name of a product that a customer wants to order:  hat\n",
    "Enter the name of a product that a customer wants to order:  keychain\n",
    "\n",
    "Order Statistics:\n",
    "Total Products Ordered: 2\n",
    "Percentage of Unique Products Ordered: 40.0\n",
    "\n",
    "Updated Inventory:\n",
    "t-shirt: 5\n",
    "mug: 4\n",
    "hat: 2\n",
    "book: 2\n",
    "Enter the price of keychain:  5\n",
    "Enter the price of hat:  10\n",
    "Total Price: 15.0\n",
    "\n",
    "```\n"
   ]
  },
  {
   "cell_type": "code",
   "execution_count": 40,
   "id": "2cf52611",
   "metadata": {},
   "outputs": [],
   "source": [
    "# 1\n",
    "store_products = ['t-shirt','mug','hat','book','keychain']\n",
    "def input_number(prompt):    \n",
    "    \"\"\"Handles Input for getting a number from prompt\n",
    "       arguments: prompt -string that represente the prompt for data\n",
    "       returns: None | int - number to return if successful\n",
    "    \"\"\"\n",
    "    num = -1\n",
    "    while num <= 0:\n",
    "        try:\n",
    "            num = int(input(prompt).strip()) \n",
    "            if num <= 0: print(\"Numbers zero or less are not valid: Please Re-enter\")\n",
    "        except ValueError:\n",
    "            print(\"Not valid input: Please Re-enter\") \n",
    "    return num\n",
    "\n",
    "def initialize_inventory(products):\n",
    "    inventory = {product: input_number(f\"Enter the quantity of {product}s available: \")\n",
    "                     for product in products}\n",
    "    return inventory"
   ]
  },
  {
   "cell_type": "code",
   "execution_count": 41,
   "id": "f7dd58d2",
   "metadata": {},
   "outputs": [],
   "source": [
    "# 2\n",
    "def input_order():\n",
    "    \"\"\"Handles Input of product orders for get_customer_orders function\n",
    "       If a product doesn't exist in product list, ask for re-prompt\n",
    "       Returns: set - unique set of products ordered\"\"\"\n",
    "\n",
    "    success = False\n",
    "    # order = None\n",
    "    while not success:\n",
    "        order = input(\"Enter a product that was ordered: \").strip().lower()\n",
    "        if order not in set(store_products):\n",
    "            print('Not in inventory: try again')\n",
    "            continue\n",
    "        success = True\n",
    "    \n",
    "    return order\n",
    "        \n",
    "def get_customer_orders():\n",
    "    num_orders = input_number(\"Enter the Number of Customer Orders: \")\n",
    "    customer_orders = {input_order() for _ in range(num_orders)}\n",
    "    if len(customer_orders) < num_orders:\n",
    "        print(f\"Duplicate entries given: only {len(customer_orders)} orders will be processed\")\n",
    "        \n",
    "    return customer_orders"
   ]
  },
  {
   "cell_type": "code",
   "execution_count": 42,
   "id": "71b46ccd",
   "metadata": {},
   "outputs": [],
   "source": [
    "def calculate_order_statistics(products:list, customer_orders:set):\n",
    "    return (len(customer_orders), f\"{len(customer_orders)/ len(products)*100:.2f}%\")\n",
    "\n",
    "def print_order_statistics(order_status:tuple[int]):\n",
    "    print(\"Order Statistics:\", \\\n",
    "          f\"Total Products Ordered: {order_status[0]}\", \\\n",
    "          f\"Percentage of Products Ordered: {order_status[1]}\",\n",
    "          sep=\"\\n\")"
   ]
  },
  {
   "cell_type": "code",
   "execution_count": 43,
   "id": "b92ff3f0",
   "metadata": {},
   "outputs": [],
   "source": [
    "# 3 \n",
    "def get_price(product):    \n",
    "    \"\"\"Handles Input for getting price of numbers\n",
    "       Arguments: product - the product we want to set the price of\n",
    "       Returns: float - price of product\n",
    "    \"\"\"\n",
    "    num = 0.0\n",
    "    while num <= 0.0:\n",
    "        try:\n",
    "            num = float(input(f\"Enter the price of {product}: \").strip()) \n",
    "            if num <= 0.0: print(\"Numbers zero or less are not valid: Please Re-enter\")\n",
    "        except ValueError:\n",
    "            print(\"Not valid input: Please Re-enter\")\n",
    "    return float(round(num,2)) \n",
    "\n",
    "def calculate_price(customer_order):\n",
    "    prices = [get_price(product) for product in customer_order]\n",
    "    return sum(prices)"
   ]
  },
  {
   "cell_type": "code",
   "execution_count": 44,
   "id": "333c37a0",
   "metadata": {},
   "outputs": [],
   "source": [
    "# 4 \n",
    "def update_inventory(inventory:dict, customer_order:set):\n",
    "    return {key:inventory[key]- (1 if key in customer_order else 0) for key in inventory if inventory[key]>1}"
   ]
  },
  {
   "cell_type": "code",
   "execution_count": 45,
   "id": "cc24dfee",
   "metadata": {},
   "outputs": [
    {
     "name": "stdout",
     "output_type": "stream",
     "text": [
      "{'t-shirt': 23, 'mug': 1, 'hat': 2, 'book': 4, 'keychain': 5}\n",
      "Order Statistics:\n",
      "Total Products Ordered: 3\n",
      "Percentage of Products Ordered: 60.00%\n",
      "{'t-shirt': 23, 'hat': 1, 'book': 3, 'keychain': 5}\n",
      "total Price: 74.39\n"
     ]
    }
   ],
   "source": [
    "# 5\n",
    "inv = initialize_inventory(store_products)\n",
    "print(inv)\n",
    "store_orders = get_customer_orders()\n",
    "order_details = calculate_order_statistics(store_products, store_orders)\n",
    "print_order_statistics(order_details)\n",
    "total_cost = calculate_price(store_orders)\n",
    "inv = update_inventory(inv, store_orders)\n",
    "print(inv)\n",
    "\n",
    "#...\n",
    "print(f'total Price: {total_cost:.2f}')"
   ]
  }
 ],
 "metadata": {
  "kernelspec": {
   "display_name": "Python 3 (ipykernel)",
   "language": "python",
   "name": "python3"
  },
  "language_info": {
   "codemirror_mode": {
    "name": "ipython",
    "version": 3
   },
   "file_extension": ".py",
   "mimetype": "text/x-python",
   "name": "python",
   "nbconvert_exporter": "python",
   "pygments_lexer": "ipython3",
   "version": "3.11.9"
  }
 },
 "nbformat": 4,
 "nbformat_minor": 5
}
